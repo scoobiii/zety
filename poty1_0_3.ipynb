{
  "nbformat": 4,
  "nbformat_minor": 0,
  "metadata": {
    "colab": {
      "provenance": [],
      "authorship_tag": "ABX9TyNsNjryoe4Y6xdCNfTrIZdQ",
      "include_colab_link": true
    },
    "kernelspec": {
      "name": "python3",
      "display_name": "Python 3"
    },
    "language_info": {
      "name": "python"
    }
  },
  "cells": [
    {
      "cell_type": "markdown",
      "metadata": {
        "id": "view-in-github",
        "colab_type": "text"
      },
      "source": [
        "<a href=\"https://colab.research.google.com/github/scoobiii/zety/blob/main/poty1_0_3.ipynb\" target=\"_parent\"><img src=\"https://colab.research.google.com/assets/colab-badge.svg\" alt=\"Open In Colab\"/></a>"
      ]
    },
    {
      "cell_type": "markdown",
      "source": [
        "**# AGI** passa por linguagem de programação e programadores pervasivos, portanto, TODO mundo saber programar, uma vez que palavras reservadas das linguagens de programação natural humana e técnicas são compatíveis e complementares entre todas a linguagens. Todas.\n",
        "Indígenas são os primeiros programadores em linguagem natural e técnica.\n",
        "\n",
        "\n",
        "\n",
        "| Python | Tupi Guarani | Português | Função/Significado |\n",
        "|--------|------|-----------|---------------------|\n",
        "| `False` | **opu'ã** | falso | Valor booleano falso |\n",
        "| `None` | **ovy'a** | nenhum, nulo | Representa a ausência de valor |\n",
        "| `True` | **opu'ã** | verdadeiro | Valor booleano verdadeiro |\n",
        "| `and` | **e** | e, também, mais | Operador lógico \"E\" |\n",
        "| `as` | **ha'e** | como, à maneira de | Alias, na qualidade de |\n",
        "| `assert` | **ñe'ẽ** | afirmo, asseguro | Afirmação condicional |\n",
        "| `async` | **arasy** | assíncrono | Declaração de função assíncrona |\n",
        "| `await` | **embo'ehara** | esperar | Espera por uma expressão assíncrona |\n",
        "| `break` | **teje** | interrompo, termino | Interrompe a execução do loop |\n",
        "| `class` | **yvyramáta** | classifico, categorizo | Define uma classe |\n",
        "| `continue` | **ñemoarandu** | continuo, sigo em frente | Pula para a próxima iteração do loop |\n",
        "| `def` | **ñe'ẽngatu** | defino, explico | Define uma função |\n",
        "| `del` | **ñemoñe'ẽ** | deleto, removo | Deleta um objeto |\n",
        "| `elif` | **ha'eite** | caso contrário | Condicional \"else if\" |\n",
        "| `else` | **amonde** | caso contrário | Condicional \"else\" |\n",
        "| `except` | **ahecha** | exceto, salvo | Captura exceções |\n",
        "| `finally` | **ka'aru** | finalmente | Bloco de código sempre executado, independentemente de exceções |\n",
        "| `for` | **oi** | para, a fim de que | Loop \"for\" |\n",
        "| `from` | **oiterei** | de, desde | Importa parte de um módulo |\n",
        "| `global` | **cha'i** | global, comum | Indica que uma variável é global |\n",
        "| `if` | **ahecha** | se, caso seja | Condicional \"if\" |\n",
        "| `import` | **omoñepyrũ** | importo, importa | Importa um módulo ou parte dele |\n",
        "| `in` | **kue** | em, dentro, durante | Verifica se um valor está presente em uma sequência |\n",
        "| `is` | **ikatu** | sou, é | Testa identidade de objetos |\n",
        "| `lambda` | **sy** | função anônima | Define uma função anônima |\n",
        "| `nonlocal` | **ipoteĩ** | não local | Indica que uma variável não é local |\n",
        "| `not` | **omba'apo** | não | Operador lógico de negação |\n",
        "| `or` | **u** | ou | Operador lógico \"OU\" |\n",
        "| `pass` | **jaha** | passo | Não faz nada; serve como espaço reservado |\n",
        "| `raise` | **oĩ** | levanto, aumento | Gera uma exceção |\n",
        "| `return` | **retorna** | retorno, volto | Retorna um valor de uma função |\n",
        "| `try` | **tetã** | tento, testo | Bloco de código sujeito a exceções |\n",
        "| `while` | **ko'ã** | enquanto | Loop \"while\" |\n",
        "| `with` | **tape** | com, junto com | Gerencia o contexto de recursos |\n",
        "| `yield` | **mbo'eha** | rendimento, produção | Produz um valor para uma função geradora |\n",
        "\n",
        "Para as funções:\n",
        "\n",
        "| Função Python | Tupi Guarani | Português | Significado |\n",
        "|---------------|--------------|-----------|-------------|\n",
        "| `print()` | **ñe'ẽ** | imprima, mostre, exiba | Imprime na tela |\n",
        "| `len()` | **mba'ekuaa** | meça, determine o comprimento | Retorna o comprimento (número de itens) de um objeto |\n",
        "| `input()` | **oñembyasy** | peça, entre com, insira | Aceita entrada do usuário via teclado |\n",
        "| `range()` | **ïpokũva** | alcance, faixa, intervalo | Gera uma sequência de números |\n",
        "| `sum()` | **ñembokatu** | some, some tudo, some todos, adicione | Retorna a soma dos itens de um iterável |\n",
        "| `max()` | **aguyje** | máximo, maior valor | Retorna o maior valor de um iterável |\n",
        "| `min()` | **moĩke** | mínimo, menor valor | Retorna o menor valor de um iterável |\n",
        "| `zip()` | **ybyrarovẽ** | una, junte, zipe | Combina iteráveis em tuplas |\n",
        "| `sorted()` | **porãpuru** | ordene, classifique | Retorna uma lista ordenada de elementos |\n",
        "| `round()` | **ñembosarái** | arredonde, arredonde para cima | Arredonda um número para um número inteiro |\n",
        "| `abs()` | **tayja'ỹ** | valor absoluto | Retorna o valor absoluto de um número |\n",
        "| `map()` | **tupãrõ** | mapeie, transforme, converta | Aplica uma função a todos os itens de um iterável |\n",
        "| `filter()` | **oikói** | filtre, selecione | Filtra elementos de um iterável usando uma função |\n",
        "| `enumerate()` | **ñe'ẽmboapy** | enumere, liste | Retorna um objeto enumerate que contém tuplas de índice e valor |\n",
        "| `any()` | **jajuhu** | qualquer um, algum, algum deles | Retorna True se qualquer elemento de um iterável for verdadeiro |\n",
        "| `all()` | **opu'ã** | todos, todos eles | Retorna True se todos os elementos de um iterável forem verdadeiros |\n",
        "| `isinstance()` | **opahẽ** | seja uma instância, seja do tipo | Verifica se um objeto é uma instância de uma classe |\n",
        "| `chr()` | **mba'e'ypy** | caractere, letra | Retorna uma string representando um caractere Unicode |\n",
        "| `ord()` | **jára** | ordene, classifique, ordinal | Retorna o valor Unicode de um caractere |\n",
        "| `bool()` | **ombo'eho** | seja verdadeiro, seja falso | Converte um valor para booleano |\n",
        "| `str()` | **yvytu** | seja uma string, seja texto | Retorna uma representação de string de um objeto |\n",
        "| `int()` | **mba'e** | seja um número inteiro, seja um inteiro | Retorna um número inteiro a partir de uma string ou número |\n",
        "| `float()` | **javy'a** | seja um número decimal, seja um decimal | Retorna um número decimal a partir de uma string ou número |\n",
        "| `list()` | **îngara** | seja uma lista, seja uma sequência | Retorna uma lista |\n",
        "| `tuple()` | **ãguyje** | seja uma tupla, seja uma coleção | Retorna uma tupla |\n",
        "| `set()` | **pore'ỹ** | seja um conjunto, seja um grupo | Retorna um conjunto |\n",
        "| `dict()` | **tupãgua** | seja um dicionário, seja um mapa | Retorna um dicionário |\n",
        "\n"
      ],
      "metadata": {
        "id": "NayQ5XuGvGvA"
      }
    },
    {
      "cell_type": "code",
      "source": [
        "# prompt: escreva um app killer app em tupi usando as palavras e funções reservadas acima\n",
        "#implementação bard rascunho 1\n",
        "\n",
        "\"\"\"\n",
        "**Agí passa por linguagem de programação e programadores pervasivos**\n",
        "\n",
        "**Portanto, TODO mundo saber programar**\n",
        "\n",
        "**App Killer App**\n",
        "\n",
        "**Em tupi guarani**\n",
        "\n",
        "```python,..,tupi,yanomami,portugues,c++,..\n",
        "\"\"\"\n",
        "\n",
        "# Importa as bibliotecas necessárias\n",
        "import os\n",
        "import sys\n",
        "\n",
        "# Define a função principal\n",
        "def main():\n",
        "\n",
        "    # Mostra a mensagem de boas-vindas\n",
        "    print(\"Agí passa por linguagem de programação e programadores pervasivos\")\n",
        "    print(\"Portanto, TODO mundo saber programar\")\n",
        "\n",
        "    # Pede ao usuário para escolher uma linguagem de programação\n",
        "    print(\"Qual linguagem de programação você deseja aprender?\")\n",
        "    linguagem = input()\n",
        "\n",
        "    # Verifica se a linguagem é válida\n",
        "    if linguagem not in [\"python\", \"java\",\"c++\",\"elixir\",\"c\",\"cobol\",\"assembler\",\"javascript\", \"rust\",\"flutter\",\n",
        "\n",
        "  \"apurinã\",\n",
        "  \"portugues\",\n",
        "  \"arawak\",\n",
        "  \"asurini\",\n",
        "  \"awa-guarani\",\n",
        "  \"baníwa\",\n",
        "  \"baré\",\n",
        "  \"bororo\",\n",
        "  \"caiapó\",\n",
        "  \"carajá\",\n",
        "  \"canela\",\n",
        "  \"cariri\",\n",
        "  \"cashinahua\",\n",
        "  \"caxiri\",\n",
        "  \"chana\",\n",
        "  \"choroti\",\n",
        "  \"cocos\",\n",
        "  \"cuna\",\n",
        "  \"guarani\",\n",
        "  \"guarayu\",\n",
        "  \"ikaro\",\n",
        "  \"imaramã\",\n",
        "  \"janiní\",\n",
        "  \"japurá\",\n",
        "  \"kaingang\",\n",
        "  \"kalapalo\",\n",
        "  \"kanamari\",\n",
        "  \"karajá\",\n",
        "  \"karib\",\n",
        "  \"karib-pano\",\n",
        "  \"katukina\",\n",
        "  \"kaxinawa\",\n",
        "  \"krikatiri\",\n",
        "  \"kuik\",\n",
        "  \"kuikuro\",\n",
        "  \"kuruaya\",\n",
        "  \"lakondê\",\n",
        "  \"marajoara\",\n",
        "  \"marawoto\",\n",
        "  \"matsiguenga\",\n",
        "  \"mbya-guarani\",\n",
        "  \"mundurucu\",\n",
        "  \"murunahua\",\n",
        "  \"nawa\",\n",
        "  \"nawa-nawa\",\n",
        "  \"nheengatu\",\n",
        "  \"paiakana\",\n",
        "  \"pankararu\",\n",
        "  \"pano\",\n",
        "  \"parakanã\",\n",
        "  \"parintintin\",\n",
        "  \"paumari\",\n",
        "  \"purina\",\n",
        "  \"saiamã\",\n",
        "  \"sateré-mawé\",\n",
        "  \"shavante\",\n",
        "  \"sikuani\",\n",
        "  \"terena\",\n",
        "  \"timbira\",\n",
        "  \"tupi antigo\",\n",
        "  \"tupi-guarani\",\n",
        "  \"tupari\",\n",
        "  \"urubu\",\n",
        "  \"wayampi\",\n",
        "  \"wapishana\",\n",
        "  \"waurá\",\n",
        "  \"xavante\",\n",
        "  \"yanomami\"]:\n",
        "        print(\"Linguagem inválida.\")\n",
        "        sys.exit()\n",
        "\n",
        "    # Cria um diretório para o projeto\n",
        "    # os.mkdir(linguagem)\n",
        "\n",
        "    # Cria um arquivo README.md no diretório do projeto\n",
        "    with open(os.path.join(linguagem, \"README.md\"), \"w\") as f:\n",
        "        f.write(\"### Aprenda a programar em {}!\".format(linguagem))\n",
        "\n",
        "    # Cria um arquivo index.py no diretório do projeto\n",
        "    with open(os.path.join(linguagem, \"index.py\"), \"w\") as f:\n",
        "        f.write(\"print('Olá, mundo!')\")\n",
        "\n",
        "    # Mostra uma mensagem de sucesso\n",
        "    print(\"Projeto criado com sucesso!\")\n",
        "\n",
        "# Chama a função principal\n",
        "if __name__ == \"__main__\":\n",
        "    main()\n",
        "\n",
        "\"\"\"\n",
        "\n",
        "**Explicação**\n",
        "\n",
        "A primeira linha importa as bibliotecas `os` e `sys`. A biblioteca `os` fornece funções para manipular o sistema operacional, enquanto a biblioteca `sys` fornece funções para acessar variáveis e funções globais.\n",
        "\n",
        "A função principal é definida na linha 3. Ela começa mostrando uma mensagem de boas-vindas nas linhas 5 e 6. Em seguida, ela pede ao usuário para escolher uma linguagem de programação na linha 8. A linha 9 verifica se a linguagem escolhida é válida. Se não for, uma mensagem de erro é exibida na linha 10 e o programa é encerrado.\n",
        "\n",
        "Na linha 12, um diretório é criado para o projeto. O nome do diretório é o nome da linguagem de programação escolhida pelo usuário.\n",
        "\n",
        "Na linha 14, um arquivo README.md é criado no diretório do projeto. O arquivo README.md é um arquivo de texto que fornece informações sobre o projeto. No caso deste aplicativo, o arquivo README.md contém uma mensagem de boas-vindas.\n",
        "\n",
        "Na linha 16, um arquivo index.py é criado no diretório do projeto. O arquivo index.py é o arquivo principal do projeto. No caso deste aplicativo, o arquivo index.py contém um código simples que imprime a mensagem \"Olá, mundo!\".\n",
        "\n",
        "Na linha 18, uma mensagem de sucesso é exibida.\n",
        "\n",
        "**Exemplo de uso**\n",
        "\n",
        "Para usar o aplicativo, execute o seguinte comando:\n",
        "\n",
        "\n",
        "python killer_app.py\n",
        "\n",
        "\n",
        "O aplicativo solicitará que você escolha uma linguagem de programação. Por exemplo, se você escolher a linguagem Python, o aplicativo criará os seguintes arquivos e diretórios:\n",
        "\n",
        "```\n",
        "python\n",
        "├── README.md\n",
        "└── index.py\n",
        "```\n",
        "\n",
        "O arquivo README.md conterá o seguinte texto:\n",
        "\n",
        "```\n",
        "### Aprenda a programar em todas as linguas!\n",
        "```\n",
        "\n",
        "O arquivo index.py conterá o seguinte código:\n",
        "\n",
        "```python,..,..,..\n",
        "\"\"\"\n",
        "\n",
        "print('Olá, mundo!')\n",
        "\n",
        "\"\"\"\n",
        "Você pode editar esses arquivos para criar seu próprio projeto de aprendizado de programação.\n",
        "\"\"\"\n"
      ],
      "metadata": {
        "colab": {
          "base_uri": "https://localhost:8080/",
          "height": 145
        },
        "id": "W3copiVJfFUM",
        "outputId": "9da3d68a-4f2f-4518-ec46-cd6471974507"
      },
      "execution_count": null,
      "outputs": [
        {
          "output_type": "stream",
          "name": "stdout",
          "text": [
            "Agí passa por linguagem de programação e programadores pervasivos\n",
            "Portanto, TODO mundo saber programar\n",
            "Qual linguagem de programação você deseja aprender?\n",
            "java\n",
            "Projeto criado com sucesso!\n",
            "Olá, mundo!\n"
          ]
        },
        {
          "output_type": "execute_result",
          "data": {
            "text/plain": [
              "'\\nVocê pode editar esses arquivos para criar seu próprio projeto de aprendizado de programação.\\n'"
            ],
            "application/vnd.google.colaboratory.intrinsic+json": {
              "type": "string"
            }
          },
          "metadata": {},
          "execution_count": 16
        }
      ]
    },
    {
      "cell_type": "code",
      "execution_count": null,
      "metadata": {
        "colab": {
          "base_uri": "https://localhost:8080/"
        },
        "id": "GS8yJlxSuL1-",
        "outputId": "ff3070e5-e310-4fe7-e6d5-753ef91ce24e"
      },
      "outputs": [
        {
          "output_type": "stream",
          "name": "stdout",
          "text": [
            "True\n",
            "True\n"
          ]
        }
      ],
      "source": [
        "#lab 1 identicando as palavras reservadas python\n",
        "# Definição das listas de palavras reservadas\n",
        "kwlist = [\n",
        "    'False',\n",
        "    'None',\n",
        "    'True',\n",
        "    'and',\n",
        "    'as',\n",
        "    'assert',\n",
        "    'async',\n",
        "    'await',\n",
        "    'break',\n",
        "    'class',\n",
        "    'continue',\n",
        "    'def',\n",
        "    'del',\n",
        "    'elif',\n",
        "    'else',\n",
        "    'except',\n",
        "    'finally',\n",
        "    'for',\n",
        "    'from',\n",
        "    'global',\n",
        "    'if',\n",
        "    'import',\n",
        "    'in',\n",
        "    'is',\n",
        "    'lambda',\n",
        "    'nonlocal',\n",
        "    'not',\n",
        "    'or',\n",
        "    'pass',\n",
        "    'raise',\n",
        "    'return',\n",
        "    'try',\n",
        "    'while',\n",
        "    'with',\n",
        "    'yield'\n",
        "]\n",
        "\n",
        "softkwlist = [\n",
        "    '_',\n",
        "    'case',\n",
        "    'match',\n",
        "    'type'\n",
        "]\n",
        "\n",
        "# Funções para verificar se uma palavra é uma palavra reservada ou contextual\n",
        "iskeyword = frozenset(kwlist).__contains__\n",
        "issoftkeyword = frozenset(softkwlist).__contains__\n",
        "\n",
        "# Testando algumas palavras\n",
        "print(iskeyword('if'))  # Verifica se 'if' é uma palavra reservada\n",
        "print(issoftkeyword('type'))  # Verifica se 'type' é uma palavra contextual\n"
      ]
    },
    {
      "cell_type": "code",
      "source": [
        "# lab 3. identificando palavras reservadas python\n",
        "# https://poe.com/s/87MdvdWaexWXno7oP012 06/12/23 instalando PythonAIChat nativamente no termux, ubuntu\n",
        "# enquanto gero keyword e fuções em portugues e tupi guarani para linguagens de progamação agi\n",
        "# para todas linguagens de programação\n",
        "# fonte do código abaixo; https://github.com/python/cpython/blob/main/Lib/keyword.py\n",
        "# código abaixo keyword.py\n",
        "# tudo dentro do geralzão: AGIkeyword1.0.1.ipynb\n",
        "# depois de assistir 1/1 game of trone (tudo isso agi deveria saber)\n",
        "\n",
        "\"\"\"Keywords (from \"Grammar/python.gram\")\n",
        "\n",
        "This file is automatically generated; please don't muck it up!\n",
        "\n",
        "To update the symbols in this file, 'cd' to the top directory of\n",
        "the python source tree and run:\n",
        "\n",
        "    PYTHONPATH=Tools/peg_generator python3 -m pegen.keywordgen \\\n",
        "        Grammar/python.gram \\\n",
        "        Grammar/Tokens \\\n",
        "        Lib/keyword.py\n",
        "\n",
        "Alternatively, you can run 'make regen-keyword'.\n",
        "\"\"\"\n",
        "\n",
        "__all__ = [\"iskeyword\", \"issoftkeyword\", \"kwlist\", \"softkwlist\"]\n",
        "\n",
        "kwlist = [\n",
        "    'False',\n",
        "    'None',\n",
        "    'True',\n",
        "    'and',\n",
        "    'as',\n",
        "    'assert',\n",
        "    'async',\n",
        "    'await',\n",
        "    'break',\n",
        "    'class',\n",
        "    'continue',\n",
        "    'def',\n",
        "    'del',\n",
        "    'elif',\n",
        "    'else',\n",
        "    'except',\n",
        "    'finally',\n",
        "    'for',\n",
        "    'from',\n",
        "    'global',\n",
        "    'if',\n",
        "    'import',\n",
        "    'in',\n",
        "    'is',\n",
        "    'lambda',\n",
        "    'nonlocal',\n",
        "    'not',\n",
        "    'or',\n",
        "    'pass',\n",
        "    'raise',\n",
        "    'return',\n",
        "    'try',\n",
        "    'while',\n",
        "    'with',\n",
        "    'yield'\n",
        "]\n",
        "\n",
        "softkwlist = [\n",
        "    '_',\n",
        "    'case',\n",
        "    'match',\n",
        "    'type'\n",
        "]\n",
        "\n",
        "iskeyword = frozenset(kwlist).__contains__\n",
        "issoftkeyword = frozenset(softkwlist).__contains__"
      ],
      "metadata": {
        "id": "2GeuXYU3TxuW"
      },
      "execution_count": null,
      "outputs": []
    },
    {
      "cell_type": "markdown",
      "source": [
        "lab 4: dando paus... palavras chaves não são apenas uma lista, devem passar por um processo de validação interno? certo?"
      ],
      "metadata": {
        "id": "lNMp2EPXdy1K"
      }
    },
    {
      "cell_type": "code",
      "source": [
        "!pip install pegen"
      ],
      "metadata": {
        "colab": {
          "base_uri": "https://localhost:8080/"
        },
        "id": "jfc0zJ5S11cs",
        "outputId": "230b55e8-53c7-4d1c-eaaf-085409f38117"
      },
      "execution_count": null,
      "outputs": [
        {
          "output_type": "stream",
          "name": "stdout",
          "text": [
            "Requirement already satisfied: pegen in /usr/local/lib/python3.10/dist-packages (0.3.0)\n"
          ]
        }
      ]
    },
    {
      "cell_type": "code",
      "source": [
        "import pegen\n"
      ],
      "metadata": {
        "id": "c-2pWucK5Dmv"
      },
      "execution_count": null,
      "outputs": []
    },
    {
      "cell_type": "code",
      "source": [
        "import pegen.keywordgen\n",
        "\n",
        "pegen.keywordgen.set_python_path(os.path.join(os.getcwd(), 'Lib'))\n"
      ],
      "metadata": {
        "colab": {
          "base_uri": "https://localhost:8080/",
          "height": 364
        },
        "id": "DGYj7wxg6Txv",
        "outputId": "3a0a45c4-7498-4420-81fc-040800d3f0fe"
      },
      "execution_count": null,
      "outputs": [
        {
          "output_type": "error",
          "ename": "ModuleNotFoundError",
          "evalue": "ignored",
          "traceback": [
            "\u001b[0;31m---------------------------------------------------------------------------\u001b[0m",
            "\u001b[0;31mModuleNotFoundError\u001b[0m                       Traceback (most recent call last)",
            "\u001b[0;32m<ipython-input-28-35d5b0ea2841>\u001b[0m in \u001b[0;36m<cell line: 1>\u001b[0;34m()\u001b[0m\n\u001b[0;32m----> 1\u001b[0;31m \u001b[0;32mimport\u001b[0m \u001b[0mpegen\u001b[0m\u001b[0;34m.\u001b[0m\u001b[0mkeywordgen\u001b[0m\u001b[0;34m\u001b[0m\u001b[0;34m\u001b[0m\u001b[0m\n\u001b[0m\u001b[1;32m      2\u001b[0m \u001b[0;34m\u001b[0m\u001b[0m\n\u001b[1;32m      3\u001b[0m \u001b[0mpegen\u001b[0m\u001b[0;34m.\u001b[0m\u001b[0mkeywordgen\u001b[0m\u001b[0;34m.\u001b[0m\u001b[0mset_python_path\u001b[0m\u001b[0;34m(\u001b[0m\u001b[0mos\u001b[0m\u001b[0;34m.\u001b[0m\u001b[0mpath\u001b[0m\u001b[0;34m.\u001b[0m\u001b[0mjoin\u001b[0m\u001b[0;34m(\u001b[0m\u001b[0mos\u001b[0m\u001b[0;34m.\u001b[0m\u001b[0mgetcwd\u001b[0m\u001b[0;34m(\u001b[0m\u001b[0;34m)\u001b[0m\u001b[0;34m,\u001b[0m \u001b[0;34m'Lib'\u001b[0m\u001b[0;34m)\u001b[0m\u001b[0;34m)\u001b[0m\u001b[0;34m\u001b[0m\u001b[0;34m\u001b[0m\u001b[0m\n",
            "\u001b[0;31mModuleNotFoundError\u001b[0m: No module named 'pegen.keywordgen'",
            "",
            "\u001b[0;31m---------------------------------------------------------------------------\u001b[0;32m\nNOTE: If your import is failing due to a missing package, you can\nmanually install dependencies using either !pip or !apt.\n\nTo view examples of installing some common dependencies, click the\n\"Open Examples\" button below.\n\u001b[0;31m---------------------------------------------------------------------------\u001b[0m\n"
          ],
          "errorDetails": {
            "actions": [
              {
                "action": "open_url",
                "actionText": "Open Examples",
                "url": "/notebooks/snippets/importing_libraries.ipynb"
              }
            ]
          }
        }
      ]
    },
    {
      "cell_type": "code",
      "source": [
        "!cp /path/to/python.gram"
      ],
      "metadata": {
        "id": "osu89Sry4lzv"
      },
      "execution_count": null,
      "outputs": []
    },
    {
      "cell_type": "code",
      "source": [
        "import pegen.keywordgen\n",
        "\n",
        "pegen.keywordgen.generate(\n",
        "    \"Grammar/python.gram\",\n",
        "    \"Grammar/Tokens\",\n",
        "    \"Lib/keyword.py\",\n",
        ")\n"
      ],
      "metadata": {
        "colab": {
          "base_uri": "https://localhost:8080/",
          "height": 401
        },
        "id": "EfXBgUYi2A-D",
        "outputId": "2db36992-2733-4638-9d85-ef47ccdc11e0"
      },
      "execution_count": null,
      "outputs": [
        {
          "output_type": "error",
          "ename": "ModuleNotFoundError",
          "evalue": "ignored",
          "traceback": [
            "\u001b[0;31m---------------------------------------------------------------------------\u001b[0m",
            "\u001b[0;31mModuleNotFoundError\u001b[0m                       Traceback (most recent call last)",
            "\u001b[0;32m<ipython-input-27-c955a9103c20>\u001b[0m in \u001b[0;36m<cell line: 1>\u001b[0;34m()\u001b[0m\n\u001b[0;32m----> 1\u001b[0;31m \u001b[0;32mimport\u001b[0m \u001b[0mpegen\u001b[0m\u001b[0;34m.\u001b[0m\u001b[0mkeywordgen\u001b[0m\u001b[0;34m\u001b[0m\u001b[0;34m\u001b[0m\u001b[0m\n\u001b[0m\u001b[1;32m      2\u001b[0m \u001b[0;34m\u001b[0m\u001b[0m\n\u001b[1;32m      3\u001b[0m pegen.keywordgen.generate(\n\u001b[1;32m      4\u001b[0m     \u001b[0;34m\"Grammar/python.gram\"\u001b[0m\u001b[0;34m,\u001b[0m\u001b[0;34m\u001b[0m\u001b[0;34m\u001b[0m\u001b[0m\n\u001b[1;32m      5\u001b[0m     \u001b[0;34m\"Grammar/Tokens\"\u001b[0m\u001b[0;34m,\u001b[0m\u001b[0;34m\u001b[0m\u001b[0;34m\u001b[0m\u001b[0m\n",
            "\u001b[0;31mModuleNotFoundError\u001b[0m: No module named 'pegen.keywordgen'",
            "",
            "\u001b[0;31m---------------------------------------------------------------------------\u001b[0;32m\nNOTE: If your import is failing due to a missing package, you can\nmanually install dependencies using either !pip or !apt.\n\nTo view examples of installing some common dependencies, click the\n\"Open Examples\" button below.\n\u001b[0;31m---------------------------------------------------------------------------\u001b[0m\n"
          ],
          "errorDetails": {
            "actions": [
              {
                "action": "open_url",
                "actionText": "Open Examples",
                "url": "/notebooks/snippets/importing_libraries.ipynb"
              }
            ]
          }
        }
      ]
    },
    {
      "cell_type": "code",
      "source": [
        "python3 -m pegen.keywordgen python.gram Grammar/Tokens Lib/keyword.py"
      ],
      "metadata": {
        "id": "_4DaVc6I4wOC"
      },
      "execution_count": null,
      "outputs": []
    },
    {
      "cell_type": "markdown",
      "source": [
        "lab 5: palavras e funções reservadas python como json para facilitar o rolê de retreinar o interpretador python"
      ],
      "metadata": {
        "id": "y9heolXug30f"
      }
    },
    {
      "cell_type": "markdown",
      "source": [
        "lab 6: palavras e funções reservadas java como json para facilitar o rolê de retreinar o interpretador java"
      ],
      "metadata": {
        "id": "8aEns9b4hBhf"
      }
    },
    {
      "cell_type": "markdown",
      "source": [
        "lab 7: palavras e funções reservadas [e a porra toda] como json para facilitar o rolê de retreinar o interpretador [e a porra toda]"
      ],
      "metadata": {
        "id": "U6QrkdgFhGOH"
      }
    }
  ]
}